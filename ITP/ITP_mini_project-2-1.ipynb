{
 "cells": [
  {
   "cell_type": "markdown",
   "metadata": {},
   "source": [
    "# <center>PGP Data Science Engineering</center>\n",
    "## <center>Introduction to Programming – Mini Project:</center>\n"
   ]
  },
  {
   "cell_type": "markdown",
   "metadata": {},
   "source": [
    "### Problem 1:\n",
    "\n",
    "1. Write a program to calculate area of shapes. Your program should be capable of calculating the area of a square, rectangle, triangle and a circle. The user should be presented with options to select the shape. Based on which shape is chosed by the user, the program should ask for the appropriate input and print the resulting area on the screen.\n",
    "\n",
    "When the program is run, the screen should display something like this:\n",
    "\n",
    "**Which shape would you like to calculate the area for? Please enter the option number-**<br>\n",
    "**1. Square**<br>\n",
    "**2. Rectangle**<br>\n",
    "**3. Triangle**<br>\n",
    "**4. Circle**<br>\n",
    "**Enter Option: _**\n",
    "\n",
    "Say the user enters the option 1.\n",
    "\n",
    "**Please enter the length of a side: _**\n",
    "\n",
    "If the user enters a value of 5. The output should be:\n",
    "\n",
    "**The area of the square is 25**\n",
    "\n",
    "This program should indicate that the input is invalid if the user enters a character instead of a number as input. For instance if the user enters a value of ‘a’ instead of 5 in the previous example the program should prompt:\n",
    "\n",
    "**Invalid input, please enter a number: _**\n"
   ]
  },
  {
   "cell_type": "code",
   "execution_count": 31,
   "metadata": {},
   "outputs": [
    {
     "name": "stdout",
     "output_type": "stream",
     "text": [
      "Which shape would you like to calculate the area for 1.square 2.rectangle 3.triangle 4.circle \n",
      "4\n",
      "Enter the radius \n",
      "5\n",
      "Area of the circle is : 78.5\n"
     ]
    }
   ],
   "source": [
    "select=str(input(\"Which shape would you like to calculate the area for 1.square 2.rectangle 3.triangle 4.circle \\n\"))\n",
    "if select.isdigit():\n",
    "    if select=='1':\n",
    "        while True:\n",
    "            side=str(input(\"Enter the value of side \\n\"))\n",
    "            if side.isdigit():\n",
    "                print(\"Area of the square is :\",int(side)**2)\n",
    "                break\n",
    "            else:\n",
    "                print(\"Invalid input, please enter a number \\n\")\n",
    "                continue\n",
    "            \n",
    "\n",
    "    elif select=='2':\n",
    "        while True:\n",
    "            length=str(input(\"Enter the length \\n\"))\n",
    "            breadth=str(input(\"Enter the breadth \\n\"))\n",
    "            if length.isdigit() and breadth.isdigit():\n",
    "                print(\"Area of the rectangle is :\", int(length)*int(breadth))\n",
    "                break\n",
    "            else:\n",
    "                print(\"Invalid input, please enter a number \\n\")\n",
    "                continue\n",
    "                \n",
    "            \n",
    "    \n",
    "    elif select=='3':\n",
    "        while True:\n",
    "            side1=str(input(\"Enter side1 \\n\"))\n",
    "            side2=str(input(\"Enter side2 \\n\"))\n",
    "            side3=str(input(\"Enter side3 \\n\"))\n",
    "            if side1.isdigit() and side2.isdigit() and side3.isdigit():\n",
    "                sp=(0.5*(int(side1)+int(side2)+int(side3)))\n",
    "                tri_area=(sp*(sp-int(side1))*(sp-int(side2))*(sp-int(side3)))**0.5\n",
    "                print(\"Area of the triangle is :\", tri_area)\n",
    "                break\n",
    "            else:\n",
    "                print(\"Invalid input, please enter a number \\n\")\n",
    "                continue\n",
    "    \n",
    "    elif select=='4':\n",
    "        while True:\n",
    "            radius=str(input(\"Enter the radius \\n\"))\n",
    "            if radius.isdigit():\n",
    "                cir_area=3.14*(int(radius)**2)\n",
    "                print(\"Area of the circle is :\", cir_area)\n",
    "                break\n",
    "            else:\n",
    "                print(\"Invalid input, please enter a number \\n\")\n",
    "                continue\n",
    "                \n",
    "    else:\n",
    "        print(\"invalid input\")\n",
    "                \n",
    "    \n",
    "\n",
    "else:\n",
    "    print(\"invalid input\")\n",
    "                 "
   ]
  },
  {
   "cell_type": "markdown",
   "metadata": {},
   "source": [
    "### Problem 2:\n",
    "\n",
    "Create and encrypter in python based on the ceaser cipher. It is a substitution cipher where each character of the original text is shifted a certain number characters in the alphabet. Write a function that would require 2 arguments – the input text to be encrypted and a key. For eg: Given the input text ‘hello’ and the key 3, the resulting encryted text would be ‘khoor’. Here you can see that every character in the string hello is shifted by 3 characters. ‘h’ has shifted to ‘k’, ‘e’ has shifted to ‘h’ and so on. If a key of 5 were used, the resulting string would be ‘mjqqt’. This function should be capable of ignoring any characters which are not alphabets. Th2 character ‘z’ entered b\n",
    "y the user for a key of 3 would result in ‘c’.\n",
    "\n",
    "Usage:<br>\n",
    "**encrypt(‘hello world!’, 3)**<br>\n",
    "**‘khoor zruog!’**\n",
    "\n",
    "Similarly create decrypter which can decode the encryted text when provided the input text and key\n",
    "\n",
    "Usage:<br>\n",
    "**decrypt(‘khoor zruog!’, 3)**<br>\n",
    "**‘hello world!’**\n",
    "\n",
    "For the sake of simplicity you can assume that input solely consists of lowercase alphabets, spaces and punctuation symbols. Numbers in the input text would also be ignored similar to symbols."
   ]
  },
  {
   "cell_type": "code",
   "execution_count": 11,
   "metadata": {},
   "outputs": [
    {
     "name": "stdout",
     "output_type": "stream",
     "text": [
      "Enter the text \n",
      "hello world!\n",
      "Enter the key \n",
      "3\n",
      "The encrypted text is khoor zruog!\n",
      "Enter the text to decrypt \n",
      "khoor zruog!\n",
      "The de-crypted text is hello world!\n"
     ]
    }
   ],
   "source": [
    "\n",
    "def encrypt(text,s):\n",
    "    result=\"\"\n",
    "    for i in range(len(text)):\n",
    "        char=text[i]\n",
    "        if(text[i].isalpha()):\n",
    "        \n",
    "            result+= chr((ord(char)+ s -97)%26 + 97)\n",
    "        else:\n",
    "            result+= text[i]\n",
    "        \n",
    "    return result\n",
    "\n",
    "\n",
    "def decrypt(text,s):\n",
    "    s=26-s\n",
    "    result=encrypt(text,s)\n",
    "    return result\n",
    "\n",
    "\n",
    "text=str(input(\"Enter the text \\n\"))\n",
    "s=int(input(\"Enter the key \\n\"))\n",
    "encode=encrypt(text,s)\n",
    "print(\"The encrypted text is\", encode)\n",
    "text1=str(input(\"Enter the text to decrypt \\n\"))\n",
    "decode=decrypt(text1,s)\n",
    "print(\"The de-crypted text is\", decode)\n",
    "\n",
    "\n",
    "\n",
    "    "
   ]
  },
  {
   "cell_type": "code",
   "execution_count": null,
   "metadata": {},
   "outputs": [],
   "source": []
  },
  {
   "cell_type": "code",
   "execution_count": null,
   "metadata": {},
   "outputs": [],
   "source": []
  }
 ],
 "metadata": {
  "kernelspec": {
   "display_name": "Python 3",
   "language": "python",
   "name": "python3"
  },
  "language_info": {
   "codemirror_mode": {
    "name": "ipython",
    "version": 3
   },
   "file_extension": ".py",
   "mimetype": "text/x-python",
   "name": "python",
   "nbconvert_exporter": "python",
   "pygments_lexer": "ipython3",
   "version": "3.7.4"
  }
 },
 "nbformat": 4,
 "nbformat_minor": 2
}
